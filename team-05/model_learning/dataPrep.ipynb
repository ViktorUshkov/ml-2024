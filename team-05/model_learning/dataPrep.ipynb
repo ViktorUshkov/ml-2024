{
  "nbformat": 4,
  "nbformat_minor": 0,
  "metadata": {
    "colab": {
      "provenance": []
    },
    "kernelspec": {
      "name": "python3",
      "display_name": "Python 3"
    },
    "language_info": {
      "name": "python"
    }
  },
  "cells": [
    {
      "cell_type": "code",
      "execution_count": 3,
      "metadata": {
        "colab": {
          "base_uri": "https://localhost:8080/"
        },
        "id": "NPy7HP1z75X5",
        "outputId": "af129d27-7d1e-47fd-ee63-618055cd8e62"
      },
      "outputs": [
        {
          "output_type": "stream",
          "name": "stdout",
          "text": [
            "_______\n",
            "Датасет имеет 11055 записей, и 30 фичей\n",
            "Фичи: ['having_IP_Address', 'URL_Length', 'Shortining_Service', 'having_At_Symbol', 'double_slash_redirecting', 'Prefix_Suffix', 'having_Sub_Domain', 'SSLfinal_State', 'Domain_registeration_length', 'Favicon', 'port', 'HTTPS_token', 'Request_URL', 'URL_of_Anchor', 'Links_in_tags', 'SFH', 'Submitting_to_email', 'Abnormal_URL', 'Redirect', 'on_mouseover', 'RightClick', 'popUpWidnow', 'Iframe', 'age_of_domain', 'DNSRecord', 'web_traffic', 'Page_Rank', 'Google_Index', 'Links_pointing_to_page', 'Statistical_report', 'Result']\n",
            "10\n",
            "Размеры до деления на тест и трэин\n",
            "X:(11055, 16), y:(11055,)\n",
            "После деления\n",
            "X_train:(7738, 16), y_train:(7738,), X_test:(3317, 16), y_test:(3317,)\n"
          ]
        }
      ],
      "source": [
        "\n",
        "from scipy.io import arff\n",
        "import numpy as np\n",
        "import json\n",
        "from sklearn.model_selection import train_test_split, KFold\n",
        "\n",
        "dataset = arff.loadarff(open('dataset.arff', 'r'))\n",
        "\n",
        "data = np.array([np.array(list(ele), dtype='int') for ele in dataset[0]])\n",
        "\n",
        "print('_______')\n",
        "\n",
        "\n",
        "print('Датасет имеет {0} записей, и {1} фичей'.format(data.shape[0], data.shape[1]-1))\n",
        "print('Фичи: {0}'.format([feature for feature in dataset[1]]))\n",
        "\n",
        "\n",
        "print([feature for feature in dataset[1]].index('port'))\n",
        "data = data[:, [0, 1, 2, 3, 4, 5, 6, 7, 9, 11, 12, 13, 14, 15, 16, 22, 30]]\n",
        "\n",
        "X, y = data[:, :-1], data[:, -1]\n",
        "y.reshape(y.shape[0])\n",
        "\n",
        "print('Размеры до деления на тест и трэин')\n",
        "print('X:{0}, y:{1}'.format(X.shape, y.shape))\n",
        "X_train, X_test, y_train, y_test = train_test_split(X, y, test_size=0.3, random_state=0)\n",
        "print('После деления')\n",
        "print('X_train:{0}, y_train:{1}, X_test:{2}, y_test:{3}'.format(X_train.shape, y_train.shape, X_test.shape, y_test.shape))\n",
        "np.save('X_train.npy', X_train)\n",
        "np.save('X_test.npy', X_test)\n",
        "np.save('y_train.npy', y_train)\n",
        "np.save('y_test.npy', y_test)\n",
        "\n"
      ]
    },
    {
      "cell_type": "code",
      "source": [
        "N = 16\n",
        "from sklearn.tree import _tree\n",
        "\n",
        "\n",
        "def tree_to_json(tree):\n",
        "    tree_ = tree.tree_\n",
        "    feature_names = range(30)\n",
        "    feature_name = [\n",
        "        feature_names[i] if i != _tree.TREE_UNDEFINED else \"undefined!\"\n",
        "        for i in tree_.feature\n",
        "    ]\n",
        "    def recurse(node):\n",
        "        tree_json = dict()\n",
        "        if tree_.feature[node] != _tree.TREE_UNDEFINED:\n",
        "            tree_json['type'] = 'split'\n",
        "            threshold = tree_.threshold[node]\n",
        "            tree_json['threshold'] = \"{} <= {}\".format(feature_name[node], threshold)\n",
        "            tree_json['left'] = recurse(tree_.children_left[node])\n",
        "            tree_json['right'] = recurse(tree_.children_right[node])\n",
        "        else:\n",
        "            tree_json['type'] = 'leaf'\n",
        "            tree_json['value'] = tree_.value[node].tolist()\n",
        "        return tree_json\n",
        "\n",
        "    return recurse(0)\n",
        "\n",
        "\n",
        "\n",
        "def forest_to_json(forest):\n",
        "    forest_json = dict()\n",
        "    forest_json['n_features'] = N\n",
        "    forest_json['n_classes'] = forest.n_classes_\n",
        "    forest_json['classes'] = forest.classes_.tolist()\n",
        "    forest_json['n_outputs'] = forest.n_outputs_\n",
        "    forest_json['n_estimators'] = forest.n_estimators\n",
        "    forest_json['estimators'] = [tree_to_json(estimator) for estimator in forest.estimators_]\n",
        "    return forest_json\n",
        "\n"
      ],
      "metadata": {
        "id": "OdMGQ91VAWny"
      },
      "execution_count": 4,
      "outputs": []
    },
    {
      "cell_type": "code",
      "source": [
        "from sklearn.ensemble import RandomForestClassifier\n",
        "from sklearn.tree import DecisionTreeClassifier\n",
        "from sklearn.metrics import accuracy_score, precision_score, recall_score\n",
        "import numpy as np\n",
        "import json\n",
        "\n",
        "\n",
        "X_train = np.load('X_train.npy')\n",
        "y_train = np.load('y_train.npy')\n",
        "print('X_train:{0}, y_train:{1}'.format(X_train.shape, y_train.shape))\n",
        "\n",
        "clf = RandomForestClassifier()\n",
        "\n",
        "clf.fit(X_train, y_train)\n",
        "\n",
        "X_test = np.load('X_test.npy')\n",
        "y_test = np.load('y_test.npy')\n",
        "\n",
        "\n",
        "pred = clf.predict(X_test)\n",
        "print('Точность {}'.format(accuracy_score(y_test, pred)))\n",
        "\n",
        "\n",
        "json.dump(forest_to_json(clf), open('classifier.json', 'w'))\n",
        "\n"
      ],
      "metadata": {
        "colab": {
          "base_uri": "https://localhost:8080/"
        },
        "id": "_QAkRAx978iH",
        "outputId": "9b49925d-1699-4666-a3e4-43fcf32e0ed6"
      },
      "execution_count": 12,
      "outputs": [
        {
          "output_type": "stream",
          "name": "stdout",
          "text": [
            "X_train:(7738, 16), y_train:(7738,)\n",
            "Точность 0.9463370515526078\n"
          ]
        }
      ]
    },
    {
      "cell_type": "code",
      "source": [],
      "metadata": {
        "id": "WclN5GleHwmA"
      },
      "execution_count": null,
      "outputs": []
    }
  ]
}